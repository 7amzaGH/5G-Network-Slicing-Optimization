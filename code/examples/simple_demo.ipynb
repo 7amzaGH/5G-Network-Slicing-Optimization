{
  "nbformat": 4,
  "nbformat_minor": 0,
  "metadata": {
    "colab": {
      "provenance": [],
      "authorship_tag": "ABX9TyNI9aKvEMfk6ZM4A5eWPeKW",
      "include_colab_link": true
    },
    "kernelspec": {
      "name": "python3",
      "display_name": "Python 3"
    },
    "language_info": {
      "name": "python"
    }
  },
  "cells": [
    {
      "cell_type": "markdown",
      "metadata": {
        "id": "view-in-github",
        "colab_type": "text"
      },
      "source": [
        "<a href=\"https://colab.research.google.com/github/7amzaGH/5G-Network-Slicing-Optimization/blob/main/code/solver_example.ipynb\" target=\"_parent\"><img src=\"https://colab.research.google.com/assets/colab-badge.svg\" alt=\"Open In Colab\"/></a>"
      ]
    },
    {
      "cell_type": "markdown",
      "source": [
        "# **5G Network Slicing Optimization using ILP**\n",
        "# **Author: Hamza Ghitri**\n",
        "\n"
      ],
      "metadata": {
        "id": "Z2ZhDjj87syX"
      }
    },
    {
      "cell_type": "code",
      "source": [
        "!pip install pulp"
      ],
      "metadata": {
        "colab": {
          "base_uri": "https://localhost:8080/"
        },
        "id": "I9GBM5eyu2Ft",
        "outputId": "5de2a401-e0c3-4b89-fa32-6e7c1ef3497a"
      },
      "execution_count": 1,
      "outputs": [
        {
          "output_type": "stream",
          "name": "stdout",
          "text": [
            "Collecting pulp\n",
            "  Downloading pulp-3.3.0-py3-none-any.whl.metadata (8.4 kB)\n",
            "Downloading pulp-3.3.0-py3-none-any.whl (16.4 MB)\n",
            "\u001b[2K   \u001b[90m━━━━━━━━━━━━━━━━━━━━━━━━━━━━━━━━━━━━━━━━\u001b[0m \u001b[32m16.4/16.4 MB\u001b[0m \u001b[31m33.1 MB/s\u001b[0m eta \u001b[36m0:00:00\u001b[0m\n",
            "\u001b[?25hInstalling collected packages: pulp\n",
            "Successfully installed pulp-3.3.0\n"
          ]
        }
      ]
    },
    {
      "cell_type": "markdown",
      "source": [
        "# **Main code**"
      ],
      "metadata": {
        "id": "v_QMhlz173fi"
      }
    },
    {
      "cell_type": "code",
      "execution_count": 4,
      "metadata": {
        "colab": {
          "base_uri": "https://localhost:8080/"
        },
        "id": "PZ9R83xSuyns",
        "outputId": "7fba2a21-a220-4e1e-de56-d52b7e295e9f"
      },
      "outputs": [
        {
          "output_type": "stream",
          "name": "stdout",
          "text": [
            "==================================================\n",
            "5G NETWORK SLICING OPTIMIZATION\n",
            "==================================================\n",
            "\n",
            "Solving the model...\n",
            "\n",
            "Status: Optimal\n",
            "Solver: <pulp.apis.coin_api.PULP_CBC_CMD object at 0x7e3a99893d70>\n",
            "\n",
            "==================================================\n",
            "ALLOCATION RESULTS\n",
            "==================================================\n",
            "\n",
            " Time Slot 1:\n",
            "----------------------------------------\n",
            "  slice1     → link1: 50 Mbps\n",
            "  slice2     → link2: 60 Mbps\n",
            "  slice3     → link1: 40 Mbps, link2: 50 Mbps\n",
            "\n",
            " Time Slot 2:\n",
            "----------------------------------------\n",
            "  slice1     → link2: 35 Mbps\n",
            "  slice2     → link1: 40 Mbps, link2: 50 Mbps\n",
            "  slice3     → link1: 45 Mbps\n",
            "\n",
            "==================================================\n",
            " Total Optimized Bandwidth: 370 Mbps\n",
            " Objective Value: 370.0\n",
            "==================================================\n"
          ]
        }
      ],
      "source": [
        "\n",
        "from pulp import LpMaximize, LpProblem, LpVariable, lpSum, value\n",
        "\n",
        "# -------------------------------\n",
        "# Define data\n",
        "# -------------------------------\n",
        "slices = [\"slice1\", \"slice2\", \"slice3\"]\n",
        "links = [\"link1\", \"link2\"]\n",
        "time_slots = [1, 2]\n",
        "\n",
        "# Link capacity (Mbps)\n",
        "capacity = {\"link1\": 100, \"link2\": 120}\n",
        "\n",
        "# Slice demand per link per time slot\n",
        "demand = {\n",
        "    (\"slice1\", \"link1\", 1): 50,\n",
        "    (\"slice1\", \"link2\", 1): 40,\n",
        "    (\"slice1\", \"link1\", 2): 30,  # Added time slot 2\n",
        "    (\"slice1\", \"link2\", 2): 35,\n",
        "\n",
        "    (\"slice2\", \"link1\", 1): 30,\n",
        "    (\"slice2\", \"link2\", 1): 60,\n",
        "    (\"slice2\", \"link1\", 2): 40,  # Added time slot 2\n",
        "    (\"slice2\", \"link2\", 2): 50,\n",
        "\n",
        "    (\"slice3\", \"link1\", 1): 40,\n",
        "    (\"slice3\", \"link2\", 1): 50,\n",
        "    (\"slice3\", \"link1\", 2): 45,  # Added time slot 2\n",
        "    (\"slice3\", \"link2\", 2): 40,\n",
        "}\n",
        "\n",
        "# -------------------------------\n",
        "# Define model\n",
        "# -------------------------------\n",
        "model = LpProblem(\"5G_Network_Slicing_Optimization\", LpMaximize)\n",
        "\n",
        "# Decision variable: x[slice, link, t] = 1 if bandwidth allocated, 0 otherwise\n",
        "x = LpVariable.dicts(\"x\", (slices, links, time_slots), cat=\"Binary\")\n",
        "\n",
        "# Objective: maximize total allocated bandwidth across all time slots\n",
        "model += lpSum(\n",
        "    demand.get((s, l, t), 0) * x[s][l][t]\n",
        "    for s in slices\n",
        "    for l in links\n",
        "    for t in time_slots\n",
        "), \"TotalBandwidth\"\n",
        "\n",
        "# Constraints: total usage per link per time slot <= capacity\n",
        "for l in links:\n",
        "    for t in time_slots:\n",
        "        model += (\n",
        "            lpSum(demand.get((s, l, t), 0) * x[s][l][t] for s in slices) <= capacity[l],\n",
        "            f\"Capacity_{l}_T{t}\"\n",
        "        )\n",
        "\n",
        "# Fairness constraint: each slice must get at least one allocation per time slot\n",
        "for s in slices:\n",
        "    for t in time_slots:\n",
        "        model += (\n",
        "            lpSum(x[s][l][t] for l in links) >= 1,\n",
        "            f\"Fairness_{s}_T{t}\"\n",
        "        )\n",
        "\n",
        "# -------------------------------\n",
        "# Solve\n",
        "# -------------------------------\n",
        "print(\"=\" * 50)\n",
        "print(\"5G NETWORK SLICING OPTIMIZATION\")\n",
        "print(\"=\" * 50)\n",
        "print(\"\\nSolving the model...\\n\")\n",
        "\n",
        "status = model.solve()\n",
        "\n",
        "# -------------------------------\n",
        "# Results\n",
        "# -------------------------------\n",
        "print(\"Status:\", \"Optimal\" if status == 1 else \"Not Optimal\")\n",
        "print(f\"Solver: {model.solver}\")\n",
        "print(\"\\n\" + \"=\" * 50)\n",
        "print(\"ALLOCATION RESULTS\")\n",
        "print(\"=\" * 50)\n",
        "\n",
        "total_bandwidth = 0\n",
        "for t in time_slots:\n",
        "    print(f\"\\n Time Slot {t}:\")\n",
        "    print(\"-\" * 40)\n",
        "    for s in slices:\n",
        "        allocated = []\n",
        "        for l in links:\n",
        "            if value(x[s][l][t]) == 1:\n",
        "                bw = demand.get((s, l, t), 0)\n",
        "                allocated.append(f\"{l}: {bw} Mbps\")\n",
        "                total_bandwidth += bw\n",
        "        if allocated:\n",
        "            print(f\"  {s:10} → {', '.join(allocated)}\")\n",
        "\n",
        "print(\"\\n\" + \"=\" * 50)\n",
        "print(f\" Total Optimized Bandwidth: {total_bandwidth} Mbps\")\n",
        "print(f\" Objective Value: {value(model.objective)}\")\n",
        "print(\"=\" * 50)"
      ]
    },
    {
      "cell_type": "markdown",
      "source": [
        "# Simple bar chart of all allocations"
      ],
      "metadata": {
        "id": "Lnk9qD7S78Ql"
      }
    },
    {
      "cell_type": "code",
      "source": [
        "import matplotlib.pyplot as plt\n",
        "# Simple bar chart of all allocations\n",
        "allocations = []\n",
        "labels = []\n",
        "\n",
        "for t in time_slots:\n",
        "    for s in slices:\n",
        "        for l in links:\n",
        "            if value(x[s][l][t]) == 1:\n",
        "                allocations.append(demand.get((s, l, t), 0))\n",
        "                labels.append(f\"{s}-{l}-T{t}\")\n",
        "\n",
        "plt.figure(figsize=(12, 6))\n",
        "plt.bar(labels, allocations, color=['#1f77b4', '#ff7f0e', '#2ca02c'])\n",
        "plt.xlabel('Slice-Link-TimeSlot')\n",
        "plt.ylabel('Bandwidth (Mbps)')\n",
        "plt.title('Bandwidth Allocation Across Slices, Links, and Time Slots')\n",
        "plt.xticks(rotation=45, ha='right')\n",
        "plt.grid(axis='y', alpha=0.3)\n",
        "plt.tight_layout()\n",
        "plt.show()"
      ],
      "metadata": {
        "colab": {
          "base_uri": "https://localhost:8080/",
          "height": 607
        },
        "id": "iv8lPtL5wNqB",
        "outputId": "5dcdc84b-bd4e-479d-b27f-4c12b0cae742"
      },
      "execution_count": 3,
      "outputs": [
        {
          "output_type": "display_data",
          "data": {
            "text/plain": [
              "<Figure size 1200x600 with 1 Axes>"
            ],
            "image/png": "[encoded data removed]"
          },
          "metadata": {}
        }
      ]
    }
  ]
}
