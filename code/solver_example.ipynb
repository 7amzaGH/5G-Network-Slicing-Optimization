# solver_example.ipynb (content outline)

# Title: 5G Network Slicing Optimization using ILP
# Author: Hamza Ghitri

## Step 1: Import Libraries
from pulp import *

## Step 2: Define Data
slices = ["slice1", "slice2", "slice3"]
links = ["link1", "link2"]
capacity = {"link1": 100, "link2": 120}
demand = {("slice1","link1"):50,("slice2","link2"):60,("slice3","link1"):40}

## Step 3: Define Model
model = LpProblem("5G_Slicing", LpMaximize)
x = LpVariable.dicts("x", (slices, links), cat="Binary")

model += lpSum(demand[(s,l)] * x[s][l] for s,l in demand.keys())

for l in links:
    model += lpSum(demand[(s,l)] * x[s][l] for s,l2 in demand.keys() if l2 == l) <= capacity[l]

## Step 4: Solve and Display
model.solve()
for s in slices:
    for l in links:
        if x[s][l].value() == 1:
            print(f"Slice {s} assigned to {l}")

## Step 5: Visualization
import matplotlib.pyplot as plt
labels = [f"{s}-{l}" for s,l in demand.keys()]
values = [demand[(s,l)] for s,l in demand.keys()]
plt.bar(labels, values)
plt.title("Bandwidth Demand per Slice-Link Pair")
plt.xlabel("Slices and Links")
plt.ylabel("Bandwidth (Mbps)")
plt.show()
