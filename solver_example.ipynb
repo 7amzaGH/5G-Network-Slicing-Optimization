{
  "nbformat": 4,
  "nbformat_minor": 0,
  "metadata": {
    "colab": {
      "provenance": [],
      "authorship_tag": "ABX9TyOSzs5aAdHT/aEL2rblo8wP",
      "include_colab_link": true
    },
    "kernelspec": {
      "name": "python3",
      "display_name": "Python 3"
    },
    "language_info": {
      "name": "python"
    }
  },
  "cells": [
    {
      "cell_type": "markdown",
      "metadata": {
        "id": "view-in-github",
        "colab_type": "text"
      },
      "source": [
        "<a href=\"https://colab.research.google.com/github/7amzaGH/5G-Network-Slicing-Optimization/blob/main/solver_example.ipynb\" target=\"_parent\"><img src=\"https://colab.research.google.com/assets/colab-badge.svg\" alt=\"Open In Colab\"/></a>"
      ]
    },
    {
      "cell_type": "markdown",
      "source": [
        "# **5G Network Slicing Optimization using ILP**\n",
        "# **Author: Hamza Ghitri**"
      ],
      "metadata": {
        "id": "hQd1EDG5TRD0"
      }
    },
    {
      "cell_type": "code",
      "source": [
        "!pip install pulp\n"
      ],
      "metadata": {
        "colab": {
          "base_uri": "https://localhost:8080/"
        },
        "id": "teowJqjxS9fE",
        "outputId": "ae0a742f-c9ef-458c-9181-ddcbe766fbc4"
      },
      "execution_count": 6,
      "outputs": [
        {
          "output_type": "stream",
          "name": "stdout",
          "text": [
            "Requirement already satisfied: pulp in /usr/local/lib/python3.12/dist-packages (3.3.0)\n"
          ]
        }
      ]
    },
    {
      "cell_type": "code",
      "source": [
        "from pulp import LpMaximize, LpProblem, LpVariable, lpSum\n",
        "import matplotlib.pyplot as plt"
      ],
      "metadata": {
        "id": "i6UHQkuySuou"
      },
      "execution_count": 7,
      "outputs": []
    },
    {
      "cell_type": "markdown",
      "source": [
        "# **Main code**"
      ],
      "metadata": {
        "id": "GqH5iuNCTlJC"
      }
    },
    {
      "cell_type": "code",
      "execution_count": 8,
      "metadata": {
        "colab": {
          "base_uri": "https://localhost:8080/",
          "height": 559
        },
        "id": "wJLeKkYuR1tL",
        "outputId": "f73fc7d4-3cd2-495c-95f9-83b6c2be79d0"
      },
      "outputs": [
        {
          "output_type": "stream",
          "name": "stdout",
          "text": [
            "Status: 1\n",
            "Slice slice1 assigned to link1\n",
            "Slice slice2 assigned to link2\n",
            "Slice slice3 assigned to link1\n",
            "Total optimized bandwidth: 150.0\n"
          ]
        },
        {
          "output_type": "display_data",
          "data": {
            "text/plain": [
              "<Figure size 640x480 with 1 Axes>"
            ],
            "image/png": "[encoded data removed]"
          },
          "metadata": {}
        }
      ],
      "source": [
        "# -------------------------------\n",
        "# Define data\n",
        "# -------------------------------\n",
        "slices = [\"slice1\", \"slice2\", \"slice3\"]\n",
        "links = [\"link1\", \"link2\"]\n",
        "capacity = {\"link1\": 100, \"link2\": 120}\n",
        "demand = {(\"slice1\",\"link1\"):50, (\"slice2\",\"link2\"):60, (\"slice3\",\"link1\"):40}\n",
        "\n",
        "# -------------------------------\n",
        "# Define model\n",
        "# -------------------------------\n",
        "model = LpProblem(\"5G_Slicing\", LpMaximize)\n",
        "x = LpVariable.dicts(\"x\", (slices, links), cat=\"Binary\")\n",
        "\n",
        "# Objective\n",
        "model += lpSum(demand[(s,l)] * x[s][l] for (s,l) in demand.keys())\n",
        "\n",
        "# Constraints\n",
        "for l in links:\n",
        "    model += lpSum(demand[(s,l)] * x[s][l]\n",
        "                   for (s,l2) in demand.keys() if l2 == l) <= capacity[l]\n",
        "\n",
        "# -------------------------------\n",
        "# Solve\n",
        "# -------------------------------\n",
        "model.solve()\n",
        "\n",
        "# -------------------------------\n",
        "# Results\n",
        "# -------------------------------\n",
        "print(\"Status:\", model.status)\n",
        "for s in slices:\n",
        "    for l in links:\n",
        "        if x[s][l].value() == 1:\n",
        "            print(f\"Slice {s} assigned to {l}\")\n",
        "\n",
        "print(\"Total optimized bandwidth:\", model.objective.value())\n",
        "\n",
        "# -------------------------------\n",
        "# Visualization\n",
        "# -------------------------------\n",
        "labels = [f\"{s}-{l}\" for s,l in demand.keys()]\n",
        "values = [demand[(s,l)] for s,l in demand.keys()]\n",
        "plt.bar(labels, values)\n",
        "plt.title(\"Bandwidth Demand per Slice-Link Pair\")\n",
        "plt.xlabel(\"Slices and Links\")\n",
        "plt.ylabel(\"Bandwidth (Mbps)\")\n",
        "plt.show()\n"
      ]
    }
  ]
}